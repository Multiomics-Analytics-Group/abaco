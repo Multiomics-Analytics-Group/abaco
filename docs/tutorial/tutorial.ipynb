{
 "cells": [
  {
   "cell_type": "markdown",
   "id": "62cb84c2",
   "metadata": {},
   "source": [
    "# Python Package tutorial\n",
    "\n",
    "Run when documentation is build. Building documentation therefore can become\n",
    "an minimal integration test for the package."
   ]
  },
  {
   "cell_type": "code",
   "execution_count": 1,
   "id": "825cc996",
   "metadata": {},
   "outputs": [],
   "source": [
    "from abaco import hello_world"
   ]
  },
  {
   "cell_type": "markdown",
   "id": "78609dba",
   "metadata": {},
   "source": [
    "## Hello World\n",
    "mockup module contains a function which returns a string repeating the 'hello world' string\n",
    "n-times."
   ]
  },
  {
   "cell_type": "code",
   "execution_count": 2,
   "id": "d3ac73ba",
   "metadata": {},
   "outputs": [
    {
     "data": {
      "text/plain": [
       "'hello world hello world'"
      ]
     },
     "execution_count": 2,
     "metadata": {},
     "output_type": "execute_result"
    }
   ],
   "source": [
    "ret = hello_world(2)\n",
    "ret"
   ]
  },
  {
   "cell_type": "markdown",
   "id": "b3012415",
   "metadata": {},
   "source": [
    "Print the string."
   ]
  },
  {
   "cell_type": "code",
   "execution_count": 3,
   "id": "f3a3d02a",
   "metadata": {},
   "outputs": [
    {
     "name": "stdout",
     "output_type": "stream",
     "text": [
      "hello world hello world\n"
     ]
    }
   ],
   "source": [
    "print(ret)"
   ]
  },
  {
   "cell_type": "markdown",
   "id": "076361ca",
   "metadata": {},
   "source": [
    "Inspect the signature. In an interactive session you could also use `hello_world?` to\n",
    "display the docstring. See the rendered version\n",
    "[of `hello_world` under the Reference](python_package.mockup.hello_world)"
   ]
  },
  {
   "cell_type": "code",
   "execution_count": 4,
   "id": "9cf7157d",
   "metadata": {},
   "outputs": [
    {
     "name": "stdout",
     "output_type": "stream",
     "text": [
      "Help on function hello_world in module abaco.mockup:\n",
      "\n",
      "hello_world(n: int) -> str\n",
      "    Print 'hello world' n-times.\n",
      "    \n",
      "    Parameters\n",
      "    ----------\n",
      "    n : int\n",
      "        How many time to return hello world\n",
      "    \n",
      "    Returns\n",
      "    -------\n",
      "    str\n",
      "        str of 'hello world' n-times\n",
      "\n"
     ]
    }
   ],
   "source": [
    "help(hello_world)"
   ]
  },
  {
   "cell_type": "markdown",
   "id": "916c31f2",
   "metadata": {},
   "source": [
    "Simple example for a recipe showing what the package can do."
   ]
  }
 ],
 "metadata": {
  "jupytext": {
   "cell_metadata_filter": "-all",
   "main_language": "python",
   "notebook_metadata_filter": "-all"
  },
  "kernelspec": {
   "display_name": ".venv",
   "language": "python",
   "name": "python3"
  },
  "language_info": {
   "codemirror_mode": {
    "name": "ipython",
    "version": 3
   },
   "file_extension": ".py",
   "mimetype": "text/x-python",
   "name": "python",
   "nbconvert_exporter": "python",
   "pygments_lexer": "ipython3",
   "version": "3.11.0"
  }
 },
 "nbformat": 4,
 "nbformat_minor": 5
}

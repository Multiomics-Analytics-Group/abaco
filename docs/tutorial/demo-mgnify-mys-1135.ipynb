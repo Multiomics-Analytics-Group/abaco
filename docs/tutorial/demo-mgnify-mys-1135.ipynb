{
 "cells": [
  {
   "cell_type": "markdown",
   "id": "ad5a71b5",
   "metadata": {},
   "source": [
    "# `ABaCo` demo: Mgnify study `MGYS00001135`"
   ]
  },
  {
   "cell_type": "markdown",
   "id": "bcc12d4b",
   "metadata": {},
   "source": [
    "In this demo we will implement ABaCo for batch correction on Mgnify study [MGYS00001135](https://www.ebi.ac.uk/metagenomics/studies/MGYS00001135#overview) and ENA Bioproject [PRJEB13832](https://www.ebi.ac.uk/ena/browser/view/PRJEB13832), a proof-of-concept study for surveilling infections diseases and AMR via metagenomics analysis of local sewage samples in Copenhagen.\n",
    "\n",
    "-----\n",
    "**Data Description:**\n",
    "- The metagenomics dataset collected by the Technical University of Denmark (DTU) and analysed via Mgnify [pipeline version 2.0](https://www.ebi.ac.uk/metagenomics/pipelines/2.0) is a dataset composed of 54 samples with 749 identified taxa at the genus level. \n",
    "- The samples were collected from 3 different wastewater treatment plant (WWTP) locations, accounting for the biological source of variation. \n",
    "- Samples were analyzed on 2 different dates accounting for the technical source of variation (i.e., batch effect).\n",
    "- The sample data and metadata were retrieved from the [Mgnify API](https://docs.mgnify.org/src/docs/api.html) using the following [mgnifyapi repo](https://github.com/Multiomics-Analytics-Group/Retrieve_info_MGnifyAPI/tree/angel-learning) and stored as an Annotated Dataset (AnnData)[https://anndata.readthedocs.io/en/latest/index.html]. \n",
    "\n",
    "**Goal:**\n",
    "\n",
    "With ABaCo the aim is to remove the technical variation (batch effect) while retaining the biological variation (wastewater treatment plant location). \n",
    "\n",
    "-----\n",
    "\n",
    "To start we read in the dataset. "
   ]
  },
  {
   "cell_type": "code",
   "execution_count": 1,
   "id": "d98ecaf7",
   "metadata": {},
   "outputs": [
    {
     "data": {
      "text/plain": [
       "AnnData object with n_obs × n_vars = 54 × 749\n",
       "    obs: 'analysis_id', 'sample_id', 'assembly_run_id', 'experiment_type', 'pipeline_version', 'study_id', 'instrument_platform', 'sample_name', 'biosample', 'sample_description', 'latitude', 'longitude', 'geolocation', 'biome_feature', 'biome_material', 'id', 'collection_date', 'collection_date_year', 'collection_date_month', 'collection_date_day', 'analysis_completed_date', 'analysis_completed_date_year', 'analysis_completed_date_month', 'analysis_completed_date_day', 'fname_run_id', 'erp_id', 'study_name', 'n_samples', 'biomes', 'ww_plant'\n",
       "    var: 'sk', 'k', 'p', 'c', 'o', 'f', 'g'\n",
       "    layers: 'abaco', 'clr_X', 'clr_abaco', 'normalized_X', 'normalized_abaco'"
      ]
     },
     "execution_count": 1,
     "metadata": {},
     "output_type": "execute_result"
    }
   ],
   "source": [
    "import anndata as ad\n",
    "import pandas as pd \n",
    "import numpy as np\n",
    "\n",
    "# read in annotated dataset\n",
    "adata = ad.read_h5ad(\"data/mgnify_MGYS00001135.h5ad\")\n",
    "# print details\n",
    "adata"
   ]
  },
  {
   "cell_type": "markdown",
   "id": "66663906",
   "metadata": {},
   "source": [
    "The columns (variables, vars) are the different taxa annotated with taxonomic ranks (sk = super kingdom, k = kingdom, p = phylum, c = class, o = order, f = family, g = genus).\n",
    "\n",
    "The rows (observations, obs) are the metadata for the different samples in the study MYS00001135. The ones of interest for this demo are: \n",
    "- The `analysis_completed_date` which accounts for batch effect for our purposes, and\n",
    "- `ww_plant` which are the different sampling locations and we will say is the biological variance that we wish to retain after batch correction.\n",
    "\n",
    "-----\n",
    "\n",
    "We can easily extract a df from anndata."
   ]
  },
  {
   "cell_type": "code",
   "execution_count": 3,
   "id": "1d77b8ab",
   "metadata": {},
   "outputs": [
    {
     "name": "stdout",
     "output_type": "stream",
     "text": [
      "<class 'pandas.core.frame.DataFrame'>\n",
      "RangeIndex: 54 entries, 0 to 53\n",
      "Columns: 752 entries, index to ww_plant\n",
      "dtypes: category(2), float64(749), object(1)\n",
      "memory usage: 316.9+ KB\n"
     ]
    }
   ],
   "source": [
    "batch_col = 'analysis_completed_date'\n",
    "bio_col = 'ww_plant'\n",
    "id_col = 'index'\n",
    "\n",
    "# the raw counts as df\n",
    "df_taxa = adata.to_df()\n",
    "\n",
    "# appending on the categorical data of interest\n",
    "df_all = pd.concat([df_taxa, adata.obs[[batch_col, bio_col]]], axis=1).reset_index()\n",
    "df_all.info()"
   ]
  },
  {
   "cell_type": "markdown",
   "id": "79dfcc4f",
   "metadata": {},
   "source": [
    "**`pd.DataFrame` Requirements for ABaCo:**\n",
    "\n",
    "The dataset contains the following making it compatible with the ABaCo framework:\n",
    "\n",
    "| id_col | batch_col  | bio_col  | count1 | count2 | ... |\n",
    "|--------|------------|----------|--------|--------|-----|\n",
    "| A      | 24/07/2025 | RA       | #      | #      | ... |\n",
    "| B      | 15/06/2024 | RD       | #      | #      | ... |\n",
    "| C      | 24/07/2025 | RL       | #      | #      | ... |\n",
    "\n",
    "- The data has categorical columns: \n",
    "    1. unique ids to identify the observations/samples e.g. sample id col\n",
    "    2. ids for the batch/factor groupings to be corrected by abaco. e.g. dates of sample analysis batch_col\n",
    "    3. biological/experimental factor variation for abaco to retain when correcting batch effect e.g., sampling location bio_col\n",
    "\n",
    "- And taxa counts to be trained on. \n",
    "\n",
    "We can use `abaco.BatchEffectPlots.plotPCoA()` to visualize any batch and biological effects based on the given categories. "
   ]
  },
  {
   "cell_type": "code",
   "execution_count": 4,
   "id": "128ba953",
   "metadata": {},
   "outputs": [
    {
     "name": "stdout",
     "output_type": "stream",
     "text": [
      ">> clustergrammer2 backend version 0.18.0\n"
     ]
    },
    {
     "data": {
      "application/vnd.plotly.v1+json": {
       "config": {
        "plotlyServerURL": "https://plot.ly"
       },
       "data": [
        {
         "legendgroup": "2016-06-27",
         "legendgrouptitle": {
          "text": "Batch 2016-06-27"
         },
         "marker": {
          "color": [
           "blue",
           "blue",
           "blue",
           "blue",
           "blue",
           "blue",
           "blue",
           "blue",
           "blue",
           "blue"
          ],
          "size": 8,
          "symbol": [
           "circle",
           "circle",
           "circle",
           "circle",
           "circle",
           "circle",
           "circle",
           "circle",
           "circle",
           "circle"
          ]
         },
         "mode": "markers",
         "name": "RD",
         "type": "scatter",
         "x": {
          "bdata": "roSRpBkmFMD6AfnwGAoZwLwSwS+PLPa/WqeP+Iw3AsAxSRA54BYSwOwy7Rt2sAbAa3FvPmBG8L9xydEqZKEEwEmGUcYCOwPAreJzXWu7AcA=",
          "dtype": "f8"
         },
         "y": {
          "bdata": "UPO+9Bx6A0Cjac+zDg2XP6AO/lloR/g/BpIuGvxl/j/k2vmGDY0NQLmOVK4Lcf4/nN3E5BBlqT8c+8fgas0DQGAU9mOBG+o/gjFlbelRFEA=",
          "dtype": "f8"
         }
        },
        {
         "legendgroup": "2016-06-27",
         "legendgrouptitle": {
          "text": "Batch 2016-06-27"
         },
         "marker": {
          "color": [
           "blue",
           "blue",
           "blue",
           "blue",
           "blue",
           "blue",
           "blue",
           "blue",
           "blue",
           "blue",
           "blue",
           "blue"
          ],
          "size": 8,
          "symbol": [
           "square",
           "square",
           "square",
           "square",
           "square",
           "square",
           "square",
           "square",
           "square",
           "square",
           "square",
           "square"
          ]
         },
         "mode": "markers",
         "name": "RL",
         "type": "scatter",
         "x": {
          "bdata": "qJ66h8vNCsCWtW17FbYMwOWWL2xc9/k/Fb7MUozgEsCUlzCwx4gTwE0ouhRLtBTA1TyVwbd3B8D5Y2rIWd7wP2WaqY3xNhDAXvweL6N8+b+lYx85kxsSwIK8IFLmTwjA",
          "dtype": "f8"
         },
         "y": {
          "bdata": "PGG4UJc4C0CBYED2BJbjv2XsnQZT0w7AWbyoP0Ws5r9VFypTfzoTwFxB3faQTu2/6uJubR0r9b/3KOC9PYsTwGo52WdXNti/J8b9vKppEsD/k/ULXiQFwLvGvHKSeQHA",
          "dtype": "f8"
         }
        },
        {
         "legendgroup": "2016-06-27",
         "legendgrouptitle": {
          "text": "Batch 2016-06-27"
         },
         "marker": {
          "color": [
           "blue"
          ],
          "size": 8,
          "symbol": [
           "diamond"
          ]
         },
         "mode": "markers",
         "name": "RA",
         "type": "scatter",
         "x": {
          "bdata": "LF2mVkAp7D8=",
          "dtype": "f8"
         },
         "y": {
          "bdata": "lqzP0vyxFkA=",
          "dtype": "f8"
         }
        },
        {
         "legendgroup": "2016-07-12",
         "legendgrouptitle": {
          "text": "Batch 2016-07-12"
         },
         "marker": {
          "color": [
           "red",
           "red",
           "red",
           "red",
           "red",
           "red",
           "red",
           "red",
           "red",
           "red",
           "red",
           "red",
           "red",
           "red",
           "red"
          ],
          "size": 8,
          "symbol": [
           "circle",
           "circle",
           "circle",
           "circle",
           "circle",
           "circle",
           "circle",
           "circle",
           "circle",
           "circle",
           "circle",
           "circle",
           "circle",
           "circle",
           "circle"
          ]
         },
         "mode": "markers",
         "name": "RD",
         "type": "scatter",
         "x": {
          "bdata": "MlomdbmpHEDW8faD0PgAQI00e0+6wW+/ONrVk5gUE8AP2qCFmQgYQBtFx9wyjvQ/bLorY9GZ9r9LAcwc07ECwKt7yyL5SQHAqKgZI9aW1T8CXwDUIRceQBaKjKlmOhJAfR2pM5+29j/S7MyRnVIEwJeGero0JBZA",
          "dtype": "f8"
         },
         "y": {
          "bdata": "gJUyRE7ZJ0C2PITWqEr0v5dYGaDgneA/uYfdiUvg1r/cMaM52uOpP7ZRRtZuWvW/pQUy/Fw8/L/D7vlv9Qbmv+LF2ghQdRNANWoeS0k6+L/UZAqbNs/9v8G9c0/1Zfu/LFtbVPa+57+G9GG/HbX1vzWGKsH+d/a/",
          "dtype": "f8"
         }
        },
        {
         "legendgroup": "2016-07-12",
         "legendgrouptitle": {
          "text": "Batch 2016-07-12"
         },
         "marker": {
          "color": [
           "red",
           "red",
           "red",
           "red",
           "red",
           "red",
           "red",
           "red",
           "red",
           "red",
           "red"
          ],
          "size": 8,
          "symbol": [
           "square",
           "square",
           "square",
           "square",
           "square",
           "square",
           "square",
           "square",
           "square",
           "square",
           "square"
          ]
         },
         "mode": "markers",
         "name": "RL",
         "type": "scatter",
         "x": {
          "bdata": "2xrLbLhIHEDWOvs4MQDev4fkswV7phdATmGTLScVJkAEWX7w6BH/P2gpTI8NGgfAXYrWBkgY6b9oWi9aGpvLv4FPK1l4+iFAamsE/a+z7L+F+El6ro3kPw==",
          "dtype": "f8"
         },
         "y": {
          "bdata": "w4cweO2FAMBHxAcx9jnkP6ZIRNSPHgjAp7iWovSO9T/31+FlHr8OwFNTioR5Drw/DAR9lNg/+L+c2TCGjGTMv3hhIXDPUAXAfjRBfDCjCEByPmZrVW37vw==",
          "dtype": "f8"
         }
        },
        {
         "legendgroup": "2016-07-12",
         "legendgrouptitle": {
          "text": "Batch 2016-07-12"
         },
         "marker": {
          "color": [
           "red",
           "red",
           "red",
           "red",
           "red"
          ],
          "size": 8,
          "symbol": [
           "diamond",
           "diamond",
           "diamond",
           "diamond",
           "diamond"
          ]
         },
         "mode": "markers",
         "name": "RA",
         "type": "scatter",
         "x": {
          "bdata": "0W+K/cLO979DyEPBMp4WQO3RvJnP7PO/QokyyDtIAkARW4TOokAaQA==",
          "dtype": "f8"
         },
         "y": {
          "bdata": "ngcvGwAJEkC0pGVPAKMPQPT/Fs/wcwvAcJuUxolStr+LevJtEbrevw==",
          "dtype": "f8"
         }
        }
       ],
       "layout": {
        "template": {
         "data": {
          "bar": [
           {
            "error_x": {
             "color": "#2a3f5f"
            },
            "error_y": {
             "color": "#2a3f5f"
            },
            "marker": {
             "line": {
              "color": "#E5ECF6",
              "width": 0.5
             },
             "pattern": {
              "fillmode": "overlay",
              "size": 10,
              "solidity": 0.2
             }
            },
            "type": "bar"
           }
          ],
          "barpolar": [
           {
            "marker": {
             "line": {
              "color": "#E5ECF6",
              "width": 0.5
             },
             "pattern": {
              "fillmode": "overlay",
              "size": 10,
              "solidity": 0.2
             }
            },
            "type": "barpolar"
           }
          ],
          "carpet": [
           {
            "aaxis": {
             "endlinecolor": "#2a3f5f",
             "gridcolor": "white",
             "linecolor": "white",
             "minorgridcolor": "white",
             "startlinecolor": "#2a3f5f"
            },
            "baxis": {
             "endlinecolor": "#2a3f5f",
             "gridcolor": "white",
             "linecolor": "white",
             "minorgridcolor": "white",
             "startlinecolor": "#2a3f5f"
            },
            "type": "carpet"
           }
          ],
          "choropleth": [
           {
            "colorbar": {
             "outlinewidth": 0,
             "ticks": ""
            },
            "type": "choropleth"
           }
          ],
          "contour": [
           {
            "colorbar": {
             "outlinewidth": 0,
             "ticks": ""
            },
            "colorscale": [
             [
              0,
              "#0d0887"
             ],
             [
              0.1111111111111111,
              "#46039f"
             ],
             [
              0.2222222222222222,
              "#7201a8"
             ],
             [
              0.3333333333333333,
              "#9c179e"
             ],
             [
              0.4444444444444444,
              "#bd3786"
             ],
             [
              0.5555555555555556,
              "#d8576b"
             ],
             [
              0.6666666666666666,
              "#ed7953"
             ],
             [
              0.7777777777777778,
              "#fb9f3a"
             ],
             [
              0.8888888888888888,
              "#fdca26"
             ],
             [
              1,
              "#f0f921"
             ]
            ],
            "type": "contour"
           }
          ],
          "contourcarpet": [
           {
            "colorbar": {
             "outlinewidth": 0,
             "ticks": ""
            },
            "type": "contourcarpet"
           }
          ],
          "heatmap": [
           {
            "colorbar": {
             "outlinewidth": 0,
             "ticks": ""
            },
            "colorscale": [
             [
              0,
              "#0d0887"
             ],
             [
              0.1111111111111111,
              "#46039f"
             ],
             [
              0.2222222222222222,
              "#7201a8"
             ],
             [
              0.3333333333333333,
              "#9c179e"
             ],
             [
              0.4444444444444444,
              "#bd3786"
             ],
             [
              0.5555555555555556,
              "#d8576b"
             ],
             [
              0.6666666666666666,
              "#ed7953"
             ],
             [
              0.7777777777777778,
              "#fb9f3a"
             ],
             [
              0.8888888888888888,
              "#fdca26"
             ],
             [
              1,
              "#f0f921"
             ]
            ],
            "type": "heatmap"
           }
          ],
          "histogram": [
           {
            "marker": {
             "pattern": {
              "fillmode": "overlay",
              "size": 10,
              "solidity": 0.2
             }
            },
            "type": "histogram"
           }
          ],
          "histogram2d": [
           {
            "colorbar": {
             "outlinewidth": 0,
             "ticks": ""
            },
            "colorscale": [
             [
              0,
              "#0d0887"
             ],
             [
              0.1111111111111111,
              "#46039f"
             ],
             [
              0.2222222222222222,
              "#7201a8"
             ],
             [
              0.3333333333333333,
              "#9c179e"
             ],
             [
              0.4444444444444444,
              "#bd3786"
             ],
             [
              0.5555555555555556,
              "#d8576b"
             ],
             [
              0.6666666666666666,
              "#ed7953"
             ],
             [
              0.7777777777777778,
              "#fb9f3a"
             ],
             [
              0.8888888888888888,
              "#fdca26"
             ],
             [
              1,
              "#f0f921"
             ]
            ],
            "type": "histogram2d"
           }
          ],
          "histogram2dcontour": [
           {
            "colorbar": {
             "outlinewidth": 0,
             "ticks": ""
            },
            "colorscale": [
             [
              0,
              "#0d0887"
             ],
             [
              0.1111111111111111,
              "#46039f"
             ],
             [
              0.2222222222222222,
              "#7201a8"
             ],
             [
              0.3333333333333333,
              "#9c179e"
             ],
             [
              0.4444444444444444,
              "#bd3786"
             ],
             [
              0.5555555555555556,
              "#d8576b"
             ],
             [
              0.6666666666666666,
              "#ed7953"
             ],
             [
              0.7777777777777778,
              "#fb9f3a"
             ],
             [
              0.8888888888888888,
              "#fdca26"
             ],
             [
              1,
              "#f0f921"
             ]
            ],
            "type": "histogram2dcontour"
           }
          ],
          "mesh3d": [
           {
            "colorbar": {
             "outlinewidth": 0,
             "ticks": ""
            },
            "type": "mesh3d"
           }
          ],
          "parcoords": [
           {
            "line": {
             "colorbar": {
              "outlinewidth": 0,
              "ticks": ""
             }
            },
            "type": "parcoords"
           }
          ],
          "pie": [
           {
            "automargin": true,
            "type": "pie"
           }
          ],
          "scatter": [
           {
            "fillpattern": {
             "fillmode": "overlay",
             "size": 10,
             "solidity": 0.2
            },
            "type": "scatter"
           }
          ],
          "scatter3d": [
           {
            "line": {
             "colorbar": {
              "outlinewidth": 0,
              "ticks": ""
             }
            },
            "marker": {
             "colorbar": {
              "outlinewidth": 0,
              "ticks": ""
             }
            },
            "type": "scatter3d"
           }
          ],
          "scattercarpet": [
           {
            "marker": {
             "colorbar": {
              "outlinewidth": 0,
              "ticks": ""
             }
            },
            "type": "scattercarpet"
           }
          ],
          "scattergeo": [
           {
            "marker": {
             "colorbar": {
              "outlinewidth": 0,
              "ticks": ""
             }
            },
            "type": "scattergeo"
           }
          ],
          "scattergl": [
           {
            "marker": {
             "colorbar": {
              "outlinewidth": 0,
              "ticks": ""
             }
            },
            "type": "scattergl"
           }
          ],
          "scattermap": [
           {
            "marker": {
             "colorbar": {
              "outlinewidth": 0,
              "ticks": ""
             }
            },
            "type": "scattermap"
           }
          ],
          "scattermapbox": [
           {
            "marker": {
             "colorbar": {
              "outlinewidth": 0,
              "ticks": ""
             }
            },
            "type": "scattermapbox"
           }
          ],
          "scatterpolar": [
           {
            "marker": {
             "colorbar": {
              "outlinewidth": 0,
              "ticks": ""
             }
            },
            "type": "scatterpolar"
           }
          ],
          "scatterpolargl": [
           {
            "marker": {
             "colorbar": {
              "outlinewidth": 0,
              "ticks": ""
             }
            },
            "type": "scatterpolargl"
           }
          ],
          "scatterternary": [
           {
            "marker": {
             "colorbar": {
              "outlinewidth": 0,
              "ticks": ""
             }
            },
            "type": "scatterternary"
           }
          ],
          "surface": [
           {
            "colorbar": {
             "outlinewidth": 0,
             "ticks": ""
            },
            "colorscale": [
             [
              0,
              "#0d0887"
             ],
             [
              0.1111111111111111,
              "#46039f"
             ],
             [
              0.2222222222222222,
              "#7201a8"
             ],
             [
              0.3333333333333333,
              "#9c179e"
             ],
             [
              0.4444444444444444,
              "#bd3786"
             ],
             [
              0.5555555555555556,
              "#d8576b"
             ],
             [
              0.6666666666666666,
              "#ed7953"
             ],
             [
              0.7777777777777778,
              "#fb9f3a"
             ],
             [
              0.8888888888888888,
              "#fdca26"
             ],
             [
              1,
              "#f0f921"
             ]
            ],
            "type": "surface"
           }
          ],
          "table": [
           {
            "cells": {
             "fill": {
              "color": "#EBF0F8"
             },
             "line": {
              "color": "white"
             }
            },
            "header": {
             "fill": {
              "color": "#C8D4E3"
             },
             "line": {
              "color": "white"
             }
            },
            "type": "table"
           }
          ]
         },
         "layout": {
          "annotationdefaults": {
           "arrowcolor": "#2a3f5f",
           "arrowhead": 0,
           "arrowwidth": 1
          },
          "autotypenumbers": "strict",
          "coloraxis": {
           "colorbar": {
            "outlinewidth": 0,
            "ticks": ""
           }
          },
          "colorscale": {
           "diverging": [
            [
             0,
             "#8e0152"
            ],
            [
             0.1,
             "#c51b7d"
            ],
            [
             0.2,
             "#de77ae"
            ],
            [
             0.3,
             "#f1b6da"
            ],
            [
             0.4,
             "#fde0ef"
            ],
            [
             0.5,
             "#f7f7f7"
            ],
            [
             0.6,
             "#e6f5d0"
            ],
            [
             0.7,
             "#b8e186"
            ],
            [
             0.8,
             "#7fbc41"
            ],
            [
             0.9,
             "#4d9221"
            ],
            [
             1,
             "#276419"
            ]
           ],
           "sequential": [
            [
             0,
             "#0d0887"
            ],
            [
             0.1111111111111111,
             "#46039f"
            ],
            [
             0.2222222222222222,
             "#7201a8"
            ],
            [
             0.3333333333333333,
             "#9c179e"
            ],
            [
             0.4444444444444444,
             "#bd3786"
            ],
            [
             0.5555555555555556,
             "#d8576b"
            ],
            [
             0.6666666666666666,
             "#ed7953"
            ],
            [
             0.7777777777777778,
             "#fb9f3a"
            ],
            [
             0.8888888888888888,
             "#fdca26"
            ],
            [
             1,
             "#f0f921"
            ]
           ],
           "sequentialminus": [
            [
             0,
             "#0d0887"
            ],
            [
             0.1111111111111111,
             "#46039f"
            ],
            [
             0.2222222222222222,
             "#7201a8"
            ],
            [
             0.3333333333333333,
             "#9c179e"
            ],
            [
             0.4444444444444444,
             "#bd3786"
            ],
            [
             0.5555555555555556,
             "#d8576b"
            ],
            [
             0.6666666666666666,
             "#ed7953"
            ],
            [
             0.7777777777777778,
             "#fb9f3a"
            ],
            [
             0.8888888888888888,
             "#fdca26"
            ],
            [
             1,
             "#f0f921"
            ]
           ]
          },
          "colorway": [
           "#636efa",
           "#EF553B",
           "#00cc96",
           "#ab63fa",
           "#FFA15A",
           "#19d3f3",
           "#FF6692",
           "#B6E880",
           "#FF97FF",
           "#FECB52"
          ],
          "font": {
           "color": "#2a3f5f"
          },
          "geo": {
           "bgcolor": "white",
           "lakecolor": "white",
           "landcolor": "#E5ECF6",
           "showlakes": true,
           "showland": true,
           "subunitcolor": "white"
          },
          "hoverlabel": {
           "align": "left"
          },
          "hovermode": "closest",
          "mapbox": {
           "style": "light"
          },
          "paper_bgcolor": "white",
          "plot_bgcolor": "#E5ECF6",
          "polar": {
           "angularaxis": {
            "gridcolor": "white",
            "linecolor": "white",
            "ticks": ""
           },
           "bgcolor": "#E5ECF6",
           "radialaxis": {
            "gridcolor": "white",
            "linecolor": "white",
            "ticks": ""
           }
          },
          "scene": {
           "xaxis": {
            "backgroundcolor": "#E5ECF6",
            "gridcolor": "white",
            "gridwidth": 2,
            "linecolor": "white",
            "showbackground": true,
            "ticks": "",
            "zerolinecolor": "white"
           },
           "yaxis": {
            "backgroundcolor": "#E5ECF6",
            "gridcolor": "white",
            "gridwidth": 2,
            "linecolor": "white",
            "showbackground": true,
            "ticks": "",
            "zerolinecolor": "white"
           },
           "zaxis": {
            "backgroundcolor": "#E5ECF6",
            "gridcolor": "white",
            "gridwidth": 2,
            "linecolor": "white",
            "showbackground": true,
            "ticks": "",
            "zerolinecolor": "white"
           }
          },
          "shapedefaults": {
           "line": {
            "color": "#2a3f5f"
           }
          },
          "ternary": {
           "aaxis": {
            "gridcolor": "white",
            "linecolor": "white",
            "ticks": ""
           },
           "baxis": {
            "gridcolor": "white",
            "linecolor": "white",
            "ticks": ""
           },
           "bgcolor": "#E5ECF6",
           "caxis": {
            "gridcolor": "white",
            "linecolor": "white",
            "ticks": ""
           }
          },
          "title": {
           "x": 0.05
          },
          "xaxis": {
           "automargin": true,
           "gridcolor": "white",
           "linecolor": "white",
           "ticks": "",
           "title": {
            "standoff": 15
           },
           "zerolinecolor": "white",
           "zerolinewidth": 2
          },
          "yaxis": {
           "automargin": true,
           "gridcolor": "white",
           "linecolor": "white",
           "ticks": "",
           "title": {
            "standoff": 15
           },
           "zerolinecolor": "white",
           "zerolinewidth": 2
          }
         }
        }
       }
      }
     },
     "metadata": {},
     "output_type": "display_data"
    }
   ],
   "source": [
    "from abaco.BatchEffectPlots import plotPCoA\n",
    "\n",
    "plotPCoA(\n",
    "    data=df_all, \n",
    "    sample_label=id_col, \n",
    "    batch_label=batch_col,  \n",
    "    experiment_label=bio_col,\n",
    ")"
   ]
  },
  {
   "cell_type": "markdown",
   "id": "ddbd9118",
   "metadata": {},
   "source": [
    "- Batch effect (colours): \n",
    "    - Analysis of the samples were completed on 2 different dates which could result in a technical source of variation captured by the slight clustering of batches along PCo1\n",
    "- Biological effect (shapes): \n",
    "    - The samples were collected from 3 different wwtps which we use as the biological source of variation for abaco to retain during batch correction. \n",
    "    - There isn't a clear clustering of shapes in the PCoA plot, but we can take a look at any other sim/diffs between locations that should be retained after abaco reconstruction."
   ]
  },
  {
   "cell_type": "markdown",
   "id": "cfdd9a92",
   "metadata": {},
   "source": [
    "### Preprocessing the count tables\n",
    "\n",
    "The raw counts require further preprocessing because samples will have different total read counts due to technical differences during sequencing. We can normalize the samples to get relative abundances of the taxa summing to 1 (composition data), or we can enforce scale invariance instead by rarefying the data by subsampling reads to a target count number (e.g. if new total read count T is 100, then samples with > T reads will lose the leftover reads and samples with < T reads will be discarded completely.)\n",
    "\n",
    "We will normalize to keep rare taxa."
   ]
  },
  {
   "cell_type": "code",
   "execution_count": null,
   "id": "506a301e",
   "metadata": {},
   "outputs": [
    {
     "data": {
      "text/plain": [
       "array([1., 1., 1., 1., 1., 1., 1., 1., 1., 1., 1., 1., 1., 1., 1., 1., 1.,\n",
       "       1., 1., 1., 1., 1., 1., 1., 1., 1., 1., 1., 1., 1., 1., 1., 1., 1.,\n",
       "       1., 1., 1., 1., 1., 1., 1., 1., 1., 1., 1., 1., 1., 1., 1., 1., 1.,\n",
       "       1., 1., 1.])"
      ]
     },
     "execution_count": 5,
     "metadata": {},
     "output_type": "execute_result"
    }
   ],
   "source": [
    "# normalize original data and store as additional anndata layer\n",
    "adata.layers['normalized_X'] = (adata.X/adata.X.sum(axis=1).reshape(-1,1))\n",
    "# sanity check \n",
    "adata.layers['normalized_X'].sum(axis=1)"
   ]
  },
  {
   "cell_type": "markdown",
   "id": "2238f8d2",
   "metadata": {},
   "source": [
    "Our normalized, compositional data (CoDa) is bound to a simplex. To move forward with any statistical tests or ML we can choose to map the coda to unconstrained vectors by log-ratio transforming (e.g., centred log-ratio via `skbio.stats.composition.clr()`) the data. "
   ]
  },
  {
   "cell_type": "code",
   "execution_count": 6,
   "id": "54ab5719",
   "metadata": {},
   "outputs": [],
   "source": [
    "from skbio.stats.composition import clr \n",
    "\n",
    "# CLR transform normalized data, replacing zeros with smallll val to avoid log(0)\n",
    "adata.layers['clr_X'] = clr(np.where(adata.layers['normalized_X'] > 0, adata.layers['normalized_X'], 1e-10))\n",
    "\n",
    "# save anndata with new layers\n",
    "adata.write_h5ad(\"data/mgnify_MGYS00001135.h5ad\")"
   ]
  },
  {
   "cell_type": "code",
   "execution_count": null,
   "id": "cf343afd",
   "metadata": {},
   "outputs": [],
   "source": [
    "# preprocessing "
   ]
  },
  {
   "cell_type": "code",
   "execution_count": null,
   "id": "d8f00afd",
   "metadata": {},
   "outputs": [],
   "source": []
  },
  {
   "cell_type": "code",
   "execution_count": null,
   "id": "01c221f6",
   "metadata": {},
   "outputs": [],
   "source": []
  },
  {
   "cell_type": "markdown",
   "id": "bbae141c",
   "metadata": {},
   "source": [
    "\n",
    "\n",
    "### The goal \n",
    "\n",
    "Here the aim of **ABaCo** is to: \n",
    "1) correct the batch effect (e.g., the points should no longer cluster by colour in the PCoA) while\n",
    "2) maintaining biological variance (e.g., maintain group sim/diff).\n",
    "\n",
    "Ideally, after using AbaCo to transform the data, the resulting PCoA will look like a colourful mixture of points and the metrics remain diff.\n",
    "\n",
    "-----\n",
    "\n",
    "## Using `ABaCo`"
   ]
  },
  {
   "cell_type": "code",
   "execution_count": 142,
   "id": "431382b2",
   "metadata": {},
   "outputs": [],
   "source": [
    "from abaco.ABaCo import metaABaCo\n",
    "import torch\n",
    "\n",
    "device = torch.device(\"cuda\" if torch.cuda.is_available() else \"cpu\")\n",
    "\n",
    "# Instaantiate the ABaCo model\n",
    "model = metaABaCo(\n",
    "    data=df_all, # Pre-processed dataframe\n",
    "    n_bios=df_all[bio_col].nunique(), # Number of biological groups in the data\n",
    "    bio_label=bio_col, # Column where biological groups are labeled in the dataframe\n",
    "    n_batches=df_all[batch_col].nunique(), # Number of batch groups in the data\n",
    "    batch_label=batch_col, # Column where batch groups are labeled in the dataframe\n",
    "    n_features=df_taxa.shape[1], # Number of features (taxonomic groups)\n",
    "    prior=\"MoG\", # Prior distribution \n",
    "    device=device, # Device\n",
    ")"
   ]
  },
  {
   "cell_type": "code",
   "execution_count": 143,
   "id": "e5c0aec5",
   "metadata": {},
   "outputs": [
    {
     "name": "stderr",
     "output_type": "stream",
     "text": [
      "Training: VAE for learning meaningful embeddings: 100%|██████████| 1000/1000 [00:24<00:00, 41.27it/s, bio_penalty=0.0052, clustering_loss=0.0423, elbo=379.2844, epoch=999/1001, vae_loss=379.3319]\n",
      "Training: Embeddings batch effect correction using adversrial training: 100%|██████████| 2000/2000 [00:52<00:00, 38.11it/s, adv_loss=-0.6822, bio_penalty=0.0419, clustering_loss=0.0423, disc_loss=0.6822, elbo=367.6367, epoch=1999/2001, vae_loss=367.7209]\n",
      "Training: VAE decoder with masked batch labels: 100%|██████████| 2000/2000 [00:33<00:00, 59.24it/s, cycle_loss=0.0000, epoch=2000/2000, vae_loss=537.3471]\n"
     ]
    }
   ],
   "source": [
    "# train the model\n",
    "model.correct(seed=42)"
   ]
  },
  {
   "cell_type": "code",
   "execution_count": 144,
   "id": "2c9dbf2a",
   "metadata": {},
   "outputs": [
    {
     "data": {
      "application/vnd.plotly.v1+json": {
       "config": {
        "plotlyServerURL": "https://plot.ly"
       },
       "data": [
        {
         "legendgroup": "2016-06-27",
         "legendgrouptitle": {
          "text": "Batch 2016-06-27"
         },
         "marker": {
          "color": [
           "blue",
           "blue",
           "blue",
           "blue",
           "blue",
           "blue",
           "blue",
           "blue",
           "blue",
           "blue"
          ],
          "size": 8,
          "symbol": [
           "circle",
           "circle",
           "circle",
           "circle",
           "circle",
           "circle",
           "circle",
           "circle",
           "circle",
           "circle"
          ]
         },
         "mode": "markers",
         "name": "RD",
         "type": "scatter",
         "x": {
          "bdata": "WVZrOEpPFMDsHyjKI4UWwCJCNSudCAlAwpF9P2JL4b+eoWs0gY8LwPRso0J4Cea/JnnmtYFeEkBGGMniFmjyP/s2Nl1ZAdk/8JKp41eO0r8=",
          "dtype": "f8"
         },
         "y": {
          "bdata": "7ZTrmjmo8D+8epdvaUQAwLiOMVu1KA1AZ4M64Isc8b+6Kt0xZ8cGQDjKxJ3MAtc/2mKd8vHxoz8Ws/om4swPQOSn3/cBzvG/ydwMags1H0A=",
          "dtype": "f8"
         }
        },
        {
         "legendgroup": "2016-06-27",
         "legendgrouptitle": {
          "text": "Batch 2016-06-27"
         },
         "marker": {
          "color": [
           "blue",
           "blue",
           "blue",
           "blue",
           "blue",
           "blue",
           "blue",
           "blue",
           "blue",
           "blue",
           "blue",
           "blue"
          ],
          "size": 8,
          "symbol": [
           "square",
           "square",
           "square",
           "square",
           "square",
           "square",
           "square",
           "square",
           "square",
           "square",
           "square",
           "square"
          ]
         },
         "mode": "markers",
         "name": "RL",
         "type": "scatter",
         "x": {
          "bdata": "SiqDxlARBsB8C5PE7vD5v61NY/tlEhdA/sL9YkUoBcDRwN/+shIBwEgVbFkuTRbAPCg1iy0X4L/0oquWK5YZQEfKD0Ds+QDALVTUXFfTBkAEv0qnCB0GwKhXbza82Q5A",
          "dtype": "f8"
         },
         "y": {
          "bdata": "IaDgiR6ABkDV8kCtM/YCwH09kqU0v/q/TpxPqXVk9b/6fNcekZAVwLhm+pCWH/C/vBnhA4Fc8L8vi8dA4KIEwO2DZvtOifG/OPN/aJuNDMAG1QmI11/uv4fUyDm3Pfi/",
          "dtype": "f8"
         }
        },
        {
         "legendgroup": "2016-06-27",
         "legendgrouptitle": {
          "text": "Batch 2016-06-27"
         },
         "marker": {
          "color": [
           "blue"
          ],
          "size": 8,
          "symbol": [
           "diamond"
          ]
         },
         "mode": "markers",
         "name": "RA",
         "type": "scatter",
         "x": {
          "bdata": "pU36D/PS778=",
          "dtype": "f8"
         },
         "y": {
          "bdata": "/UTgtzEmGUA=",
          "dtype": "f8"
         }
        },
        {
         "legendgroup": "2016-07-12",
         "legendgrouptitle": {
          "text": "Batch 2016-07-12"
         },
         "marker": {
          "color": [
           "red",
           "red",
           "red",
           "red",
           "red",
           "red",
           "red",
           "red",
           "red",
           "red",
           "red",
           "red",
           "red",
           "red",
           "red"
          ],
          "size": 8,
          "symbol": [
           "circle",
           "circle",
           "circle",
           "circle",
           "circle",
           "circle",
           "circle",
           "circle",
           "circle",
           "circle",
           "circle",
           "circle",
           "circle",
           "circle",
           "circle"
          ]
         },
         "mode": "markers",
         "name": "RD",
         "type": "scatter",
         "x": {
          "bdata": "z31OHmF3/j/mp2NLFUfpP/w9tlYwdgPAORMIx5NaHcCuwRrOghcKQDIcji6e1Oa/cOJXYst24r8/Fl3kc3oTwNX1MG6rTBDAi1agE2vL17+P94cPdDwOQMdv0upOcgJAijcwq3j3yz+c7+tvwLP6v1/NJJcNrRBA",
          "dtype": "f8"
         },
         "y": {
          "bdata": "v3VswXS0J0B1cb3bDXDgv+R65pwSY/I/zpMHK/pr+r8kEKapWnDZv6L2sHR7jdG/vbe/77B/+L+cWe184ab0vwtynaBi8Q5AB+PmYzs297/4G3eKubOkv6RCEuOCtc2/VaSfS2yBsL+7Fixc7l0CwMkt59T6rsC/",
          "dtype": "f8"
         }
        },
        {
         "legendgroup": "2016-07-12",
         "legendgrouptitle": {
          "text": "Batch 2016-07-12"
         },
         "marker": {
          "color": [
           "red",
           "red",
           "red",
           "red",
           "red",
           "red",
           "red",
           "red",
           "red",
           "red",
           "red"
          ],
          "size": 8,
          "symbol": [
           "square",
           "square",
           "square",
           "square",
           "square",
           "square",
           "square",
           "square",
           "square",
           "square",
           "square"
          ]
         },
         "mode": "markers",
         "name": "RL",
         "type": "scatter",
         "x": {
          "bdata": "5P4I3W3HE0B0whtgohuxP55cxjTRzRBANtpkgEndHEA+Z1tlBM3zv7tRw0jpWxTARbQTCbUSEcAwAg5FZxQFwKCUsercbBNAAdeYxnJY+L9Pbcr0lhjgvw==",
          "dtype": "f8"
         },
         "y": {
          "bdata": "1IJDAq1rAMCVS0XMkL/SP2l2kq32wP2/04Y+egUh4z8jfjmN22kOwH5Ml/OrHP+/5TXYFy8/9L8uzsBNXwSqPwFIjstD7gvA1dVW11MyCUB8NldsTWIEwA==",
          "dtype": "f8"
         }
        },
        {
         "legendgroup": "2016-07-12",
         "legendgrouptitle": {
          "text": "Batch 2016-07-12"
         },
         "marker": {
          "color": [
           "red",
           "red",
           "red",
           "red",
           "red"
          ],
          "size": 8,
          "symbol": [
           "diamond",
           "diamond",
           "diamond",
           "diamond",
           "diamond"
          ]
         },
         "mode": "markers",
         "name": "RA",
         "type": "scatter",
         "x": {
          "bdata": "yf7rgKc8/b9JAtgnuBQQQK7VFxIwDQPApRPmJSWe4j9MMC9i4WMfQA==",
          "dtype": "f8"
         },
         "y": {
          "bdata": "ltcS5pSCEkCT7tnwN/MRQMGDxG8Kyg3Al2/s1ltrsj/E4/6bDL/6vw==",
          "dtype": "f8"
         }
        }
       ],
       "layout": {
        "template": {
         "data": {
          "bar": [
           {
            "error_x": {
             "color": "#2a3f5f"
            },
            "error_y": {
             "color": "#2a3f5f"
            },
            "marker": {
             "line": {
              "color": "#E5ECF6",
              "width": 0.5
             },
             "pattern": {
              "fillmode": "overlay",
              "size": 10,
              "solidity": 0.2
             }
            },
            "type": "bar"
           }
          ],
          "barpolar": [
           {
            "marker": {
             "line": {
              "color": "#E5ECF6",
              "width": 0.5
             },
             "pattern": {
              "fillmode": "overlay",
              "size": 10,
              "solidity": 0.2
             }
            },
            "type": "barpolar"
           }
          ],
          "carpet": [
           {
            "aaxis": {
             "endlinecolor": "#2a3f5f",
             "gridcolor": "white",
             "linecolor": "white",
             "minorgridcolor": "white",
             "startlinecolor": "#2a3f5f"
            },
            "baxis": {
             "endlinecolor": "#2a3f5f",
             "gridcolor": "white",
             "linecolor": "white",
             "minorgridcolor": "white",
             "startlinecolor": "#2a3f5f"
            },
            "type": "carpet"
           }
          ],
          "choropleth": [
           {
            "colorbar": {
             "outlinewidth": 0,
             "ticks": ""
            },
            "type": "choropleth"
           }
          ],
          "contour": [
           {
            "colorbar": {
             "outlinewidth": 0,
             "ticks": ""
            },
            "colorscale": [
             [
              0,
              "#0d0887"
             ],
             [
              0.1111111111111111,
              "#46039f"
             ],
             [
              0.2222222222222222,
              "#7201a8"
             ],
             [
              0.3333333333333333,
              "#9c179e"
             ],
             [
              0.4444444444444444,
              "#bd3786"
             ],
             [
              0.5555555555555556,
              "#d8576b"
             ],
             [
              0.6666666666666666,
              "#ed7953"
             ],
             [
              0.7777777777777778,
              "#fb9f3a"
             ],
             [
              0.8888888888888888,
              "#fdca26"
             ],
             [
              1,
              "#f0f921"
             ]
            ],
            "type": "contour"
           }
          ],
          "contourcarpet": [
           {
            "colorbar": {
             "outlinewidth": 0,
             "ticks": ""
            },
            "type": "contourcarpet"
           }
          ],
          "heatmap": [
           {
            "colorbar": {
             "outlinewidth": 0,
             "ticks": ""
            },
            "colorscale": [
             [
              0,
              "#0d0887"
             ],
             [
              0.1111111111111111,
              "#46039f"
             ],
             [
              0.2222222222222222,
              "#7201a8"
             ],
             [
              0.3333333333333333,
              "#9c179e"
             ],
             [
              0.4444444444444444,
              "#bd3786"
             ],
             [
              0.5555555555555556,
              "#d8576b"
             ],
             [
              0.6666666666666666,
              "#ed7953"
             ],
             [
              0.7777777777777778,
              "#fb9f3a"
             ],
             [
              0.8888888888888888,
              "#fdca26"
             ],
             [
              1,
              "#f0f921"
             ]
            ],
            "type": "heatmap"
           }
          ],
          "histogram": [
           {
            "marker": {
             "pattern": {
              "fillmode": "overlay",
              "size": 10,
              "solidity": 0.2
             }
            },
            "type": "histogram"
           }
          ],
          "histogram2d": [
           {
            "colorbar": {
             "outlinewidth": 0,
             "ticks": ""
            },
            "colorscale": [
             [
              0,
              "#0d0887"
             ],
             [
              0.1111111111111111,
              "#46039f"
             ],
             [
              0.2222222222222222,
              "#7201a8"
             ],
             [
              0.3333333333333333,
              "#9c179e"
             ],
             [
              0.4444444444444444,
              "#bd3786"
             ],
             [
              0.5555555555555556,
              "#d8576b"
             ],
             [
              0.6666666666666666,
              "#ed7953"
             ],
             [
              0.7777777777777778,
              "#fb9f3a"
             ],
             [
              0.8888888888888888,
              "#fdca26"
             ],
             [
              1,
              "#f0f921"
             ]
            ],
            "type": "histogram2d"
           }
          ],
          "histogram2dcontour": [
           {
            "colorbar": {
             "outlinewidth": 0,
             "ticks": ""
            },
            "colorscale": [
             [
              0,
              "#0d0887"
             ],
             [
              0.1111111111111111,
              "#46039f"
             ],
             [
              0.2222222222222222,
              "#7201a8"
             ],
             [
              0.3333333333333333,
              "#9c179e"
             ],
             [
              0.4444444444444444,
              "#bd3786"
             ],
             [
              0.5555555555555556,
              "#d8576b"
             ],
             [
              0.6666666666666666,
              "#ed7953"
             ],
             [
              0.7777777777777778,
              "#fb9f3a"
             ],
             [
              0.8888888888888888,
              "#fdca26"
             ],
             [
              1,
              "#f0f921"
             ]
            ],
            "type": "histogram2dcontour"
           }
          ],
          "mesh3d": [
           {
            "colorbar": {
             "outlinewidth": 0,
             "ticks": ""
            },
            "type": "mesh3d"
           }
          ],
          "parcoords": [
           {
            "line": {
             "colorbar": {
              "outlinewidth": 0,
              "ticks": ""
             }
            },
            "type": "parcoords"
           }
          ],
          "pie": [
           {
            "automargin": true,
            "type": "pie"
           }
          ],
          "scatter": [
           {
            "fillpattern": {
             "fillmode": "overlay",
             "size": 10,
             "solidity": 0.2
            },
            "type": "scatter"
           }
          ],
          "scatter3d": [
           {
            "line": {
             "colorbar": {
              "outlinewidth": 0,
              "ticks": ""
             }
            },
            "marker": {
             "colorbar": {
              "outlinewidth": 0,
              "ticks": ""
             }
            },
            "type": "scatter3d"
           }
          ],
          "scattercarpet": [
           {
            "marker": {
             "colorbar": {
              "outlinewidth": 0,
              "ticks": ""
             }
            },
            "type": "scattercarpet"
           }
          ],
          "scattergeo": [
           {
            "marker": {
             "colorbar": {
              "outlinewidth": 0,
              "ticks": ""
             }
            },
            "type": "scattergeo"
           }
          ],
          "scattergl": [
           {
            "marker": {
             "colorbar": {
              "outlinewidth": 0,
              "ticks": ""
             }
            },
            "type": "scattergl"
           }
          ],
          "scattermap": [
           {
            "marker": {
             "colorbar": {
              "outlinewidth": 0,
              "ticks": ""
             }
            },
            "type": "scattermap"
           }
          ],
          "scattermapbox": [
           {
            "marker": {
             "colorbar": {
              "outlinewidth": 0,
              "ticks": ""
             }
            },
            "type": "scattermapbox"
           }
          ],
          "scatterpolar": [
           {
            "marker": {
             "colorbar": {
              "outlinewidth": 0,
              "ticks": ""
             }
            },
            "type": "scatterpolar"
           }
          ],
          "scatterpolargl": [
           {
            "marker": {
             "colorbar": {
              "outlinewidth": 0,
              "ticks": ""
             }
            },
            "type": "scatterpolargl"
           }
          ],
          "scatterternary": [
           {
            "marker": {
             "colorbar": {
              "outlinewidth": 0,
              "ticks": ""
             }
            },
            "type": "scatterternary"
           }
          ],
          "surface": [
           {
            "colorbar": {
             "outlinewidth": 0,
             "ticks": ""
            },
            "colorscale": [
             [
              0,
              "#0d0887"
             ],
             [
              0.1111111111111111,
              "#46039f"
             ],
             [
              0.2222222222222222,
              "#7201a8"
             ],
             [
              0.3333333333333333,
              "#9c179e"
             ],
             [
              0.4444444444444444,
              "#bd3786"
             ],
             [
              0.5555555555555556,
              "#d8576b"
             ],
             [
              0.6666666666666666,
              "#ed7953"
             ],
             [
              0.7777777777777778,
              "#fb9f3a"
             ],
             [
              0.8888888888888888,
              "#fdca26"
             ],
             [
              1,
              "#f0f921"
             ]
            ],
            "type": "surface"
           }
          ],
          "table": [
           {
            "cells": {
             "fill": {
              "color": "#EBF0F8"
             },
             "line": {
              "color": "white"
             }
            },
            "header": {
             "fill": {
              "color": "#C8D4E3"
             },
             "line": {
              "color": "white"
             }
            },
            "type": "table"
           }
          ]
         },
         "layout": {
          "annotationdefaults": {
           "arrowcolor": "#2a3f5f",
           "arrowhead": 0,
           "arrowwidth": 1
          },
          "autotypenumbers": "strict",
          "coloraxis": {
           "colorbar": {
            "outlinewidth": 0,
            "ticks": ""
           }
          },
          "colorscale": {
           "diverging": [
            [
             0,
             "#8e0152"
            ],
            [
             0.1,
             "#c51b7d"
            ],
            [
             0.2,
             "#de77ae"
            ],
            [
             0.3,
             "#f1b6da"
            ],
            [
             0.4,
             "#fde0ef"
            ],
            [
             0.5,
             "#f7f7f7"
            ],
            [
             0.6,
             "#e6f5d0"
            ],
            [
             0.7,
             "#b8e186"
            ],
            [
             0.8,
             "#7fbc41"
            ],
            [
             0.9,
             "#4d9221"
            ],
            [
             1,
             "#276419"
            ]
           ],
           "sequential": [
            [
             0,
             "#0d0887"
            ],
            [
             0.1111111111111111,
             "#46039f"
            ],
            [
             0.2222222222222222,
             "#7201a8"
            ],
            [
             0.3333333333333333,
             "#9c179e"
            ],
            [
             0.4444444444444444,
             "#bd3786"
            ],
            [
             0.5555555555555556,
             "#d8576b"
            ],
            [
             0.6666666666666666,
             "#ed7953"
            ],
            [
             0.7777777777777778,
             "#fb9f3a"
            ],
            [
             0.8888888888888888,
             "#fdca26"
            ],
            [
             1,
             "#f0f921"
            ]
           ],
           "sequentialminus": [
            [
             0,
             "#0d0887"
            ],
            [
             0.1111111111111111,
             "#46039f"
            ],
            [
             0.2222222222222222,
             "#7201a8"
            ],
            [
             0.3333333333333333,
             "#9c179e"
            ],
            [
             0.4444444444444444,
             "#bd3786"
            ],
            [
             0.5555555555555556,
             "#d8576b"
            ],
            [
             0.6666666666666666,
             "#ed7953"
            ],
            [
             0.7777777777777778,
             "#fb9f3a"
            ],
            [
             0.8888888888888888,
             "#fdca26"
            ],
            [
             1,
             "#f0f921"
            ]
           ]
          },
          "colorway": [
           "#636efa",
           "#EF553B",
           "#00cc96",
           "#ab63fa",
           "#FFA15A",
           "#19d3f3",
           "#FF6692",
           "#B6E880",
           "#FF97FF",
           "#FECB52"
          ],
          "font": {
           "color": "#2a3f5f"
          },
          "geo": {
           "bgcolor": "white",
           "lakecolor": "white",
           "landcolor": "#E5ECF6",
           "showlakes": true,
           "showland": true,
           "subunitcolor": "white"
          },
          "hoverlabel": {
           "align": "left"
          },
          "hovermode": "closest",
          "mapbox": {
           "style": "light"
          },
          "paper_bgcolor": "white",
          "plot_bgcolor": "#E5ECF6",
          "polar": {
           "angularaxis": {
            "gridcolor": "white",
            "linecolor": "white",
            "ticks": ""
           },
           "bgcolor": "#E5ECF6",
           "radialaxis": {
            "gridcolor": "white",
            "linecolor": "white",
            "ticks": ""
           }
          },
          "scene": {
           "xaxis": {
            "backgroundcolor": "#E5ECF6",
            "gridcolor": "white",
            "gridwidth": 2,
            "linecolor": "white",
            "showbackground": true,
            "ticks": "",
            "zerolinecolor": "white"
           },
           "yaxis": {
            "backgroundcolor": "#E5ECF6",
            "gridcolor": "white",
            "gridwidth": 2,
            "linecolor": "white",
            "showbackground": true,
            "ticks": "",
            "zerolinecolor": "white"
           },
           "zaxis": {
            "backgroundcolor": "#E5ECF6",
            "gridcolor": "white",
            "gridwidth": 2,
            "linecolor": "white",
            "showbackground": true,
            "ticks": "",
            "zerolinecolor": "white"
           }
          },
          "shapedefaults": {
           "line": {
            "color": "#2a3f5f"
           }
          },
          "ternary": {
           "aaxis": {
            "gridcolor": "white",
            "linecolor": "white",
            "ticks": ""
           },
           "baxis": {
            "gridcolor": "white",
            "linecolor": "white",
            "ticks": ""
           },
           "bgcolor": "#E5ECF6",
           "caxis": {
            "gridcolor": "white",
            "linecolor": "white",
            "ticks": ""
           }
          },
          "title": {
           "x": 0.05
          },
          "xaxis": {
           "automargin": true,
           "gridcolor": "white",
           "linecolor": "white",
           "ticks": "",
           "title": {
            "standoff": 15
           },
           "zerolinecolor": "white",
           "zerolinewidth": 2
          },
          "yaxis": {
           "automargin": true,
           "gridcolor": "white",
           "linecolor": "white",
           "ticks": "",
           "title": {
            "standoff": 15
           },
           "zerolinecolor": "white",
           "zerolinewidth": 2
          }
         }
        }
       }
      }
     },
     "metadata": {},
     "output_type": "display_data"
    }
   ],
   "source": [
    "# Reconstruct the dataset using the trained ABaCo model\n",
    "corrected_dataset = model.reconstruct(seed=42)\n",
    "\n",
    "# Plot the PCoA of the reconstructed dataset\n",
    "plotPCoA(\n",
    "    data = corrected_dataset, \n",
    "    sample_label=id_col, \n",
    "    batch_label=batch_col, \n",
    "    experiment_label=bio_col\n",
    ")"
   ]
  },
  {
   "cell_type": "code",
   "execution_count": 251,
   "id": "00c1d4d4",
   "metadata": {},
   "outputs": [
    {
     "ename": "NameError",
     "evalue": "name 'corrected_dataset' is not defined",
     "output_type": "error",
     "traceback": [
      "\u001b[31m---------------------------------------------------------------------------\u001b[39m",
      "\u001b[31mNameError\u001b[39m                                 Traceback (most recent call last)",
      "\u001b[36mCell\u001b[39m\u001b[36m \u001b[39m\u001b[32mIn[251]\u001b[39m\u001b[32m, line 2\u001b[39m\n\u001b[32m      1\u001b[39m \u001b[38;5;66;03m# save back to adata\u001b[39;00m\n\u001b[32m----> \u001b[39m\u001b[32m2\u001b[39m adata.layers[\u001b[33m'\u001b[39m\u001b[33mabaco\u001b[39m\u001b[33m'\u001b[39m] = \u001b[43mcorrected_dataset\u001b[49m.set_index(id_col).drop(columns=[batch_col, bio_col]).values\n\u001b[32m      3\u001b[39m adata.write_h5ad(\u001b[33m\"\u001b[39m\u001b[33mdata/mgnify_MGYS00001135.h5ad\u001b[39m\u001b[33m\"\u001b[39m)\n",
      "\u001b[31mNameError\u001b[39m: name 'corrected_dataset' is not defined"
     ]
    }
   ],
   "source": [
    "# save back to adata\n",
    "adata.layers['abaco'] = corrected_dataset.set_index(id_col).drop(columns=[batch_col, bio_col]).values\n",
    "adata.write_h5ad(\"data/mgnify_MGYS00001135.h5ad\")"
   ]
  },
  {
   "cell_type": "code",
   "execution_count": 12,
   "id": "734811b5",
   "metadata": {},
   "outputs": [
    {
     "data": {
      "text/plain": [
       "array([   27.,   136.,   246.,  -133.,  -699.,   127.,   397.,   258.,\n",
       "        -373.,   397.,   129., -1012.,   284.,   442.,  -389.,  -651.,\n",
       "         135.,   384.,   485.,   418.,   -81.,    96.,   816.,   215.,\n",
       "         585.,   186.,  -288.,  -571.,   -63.,  -600.,  -408.,   164.,\n",
       "        -154.,  -615.,    97.,  -222.,  -303.,   -63.,  -428.,  -425.,\n",
       "         239.,   474.,    40.,  -236.,     9.,    95.,   473.,   -69.,\n",
       "          -8.,   294.,  -181.,   137.,   776.,  -469.])"
      ]
     },
     "execution_count": 12,
     "metadata": {},
     "output_type": "execute_result"
    }
   ],
   "source": [
    "(adata.X - adata.layers['abaco']).sum(axis=1)  # check the difference between original and corrected data"
   ]
  },
  {
   "cell_type": "markdown",
   "id": "5632f49c",
   "metadata": {},
   "source": [
    "## Preprocessing the count tables\n",
    "\n",
    "The raw counts require further preprocessing because samples will have different total read counts due to technical differences during sequencing. We can normalize the samples to get relative abundances of the taxa summing to 1 (composition data), or we can enforce scale invariance instead by rarefying the data by subsampling reads to a target count number (e.g. if new total read count T is 100, then samples with > T reads will lose the leftover reads and samples with < T reads will be discarded completely.)\n",
    "\n",
    "We will normalize to keep rare taxa."
   ]
  },
  {
   "cell_type": "code",
   "execution_count": 229,
   "id": "e38f74e1",
   "metadata": {},
   "outputs": [
    {
     "data": {
      "text/plain": [
       "AnnData object with n_obs × n_vars = 54 × 749\n",
       "    obs: 'analysis_id', 'sample_id', 'assembly_run_id', 'experiment_type', 'pipeline_version', 'study_id', 'instrument_platform', 'sample_name', 'biosample', 'sample_description', 'latitude', 'longitude', 'geolocation', 'biome_feature', 'biome_material', 'id', 'collection_date', 'collection_date_year', 'collection_date_month', 'collection_date_day', 'analysis_completed_date', 'analysis_completed_date_year', 'analysis_completed_date_month', 'analysis_completed_date_day', 'fname_run_id', 'erp_id', 'study_name', 'n_samples', 'biomes', 'ww_plant'\n",
       "    var: 'sk', 'k', 'p', 'c', 'o', 'f', 'g'\n",
       "    layers: 'abaco', 'normalized_X', 'normalized_abaco'"
      ]
     },
     "execution_count": 229,
     "metadata": {},
     "output_type": "execute_result"
    }
   ],
   "source": [
    "# normalize original data\n",
    "adata.layers['normalized_X'] = (adata.X/adata.X.sum(axis=1).reshape(-1,1))\n",
    "# normalize abaco corrected data\n",
    "adata.layers['normalized_abaco'] = (adata.layers['abaco']/adata.layers['abaco'].sum(axis=1).reshape(-1,1))\n",
    "# sanity check \n",
    "adata"
   ]
  },
  {
   "cell_type": "markdown",
   "id": "31ab88a6",
   "metadata": {},
   "source": [
    "Our normalized, compositional data is bound to a simplex. To move forward with any statistical tests or ML we can map the coda to unconstrained vectors by log-ratio transforming (e.g., centred log-ratio) the data. "
   ]
  },
  {
   "cell_type": "code",
   "execution_count": 249,
   "id": "5348785a",
   "metadata": {},
   "outputs": [],
   "source": [
    "\n",
    "import numpy as np \n",
    "from skbio.stats.composition import clr \n",
    "# CLR transform normalized og data\n",
    "adata.layers['clr_X'] = clr(np.where(adata.layers['normalized_X'] > 0, adata.layers['normalized_X'], 1e-10))\n",
    "\n",
    "# CLR transform normalized ABaCo data\n",
    "adata.layers['clr_abaco'] = clr(np.where(adata.layers['normalized_abaco'] > 0, adata.layers['normalized_abaco'], 1e-10))"
   ]
  },
  {
   "cell_type": "code",
   "execution_count": 252,
   "id": "c7782513",
   "metadata": {},
   "outputs": [],
   "source": [
    "adata.write_h5ad(\"data/mgnify_MGYS00001135.h5ad\")"
   ]
  },
  {
   "cell_type": "code",
   "execution_count": 250,
   "id": "6568c87a",
   "metadata": {},
   "outputs": [
    {
     "data": {
      "text/html": [
       "<div>\n",
       "<style scoped>\n",
       "    .dataframe tbody tr th:only-of-type {\n",
       "        vertical-align: middle;\n",
       "    }\n",
       "\n",
       "    .dataframe tbody tr th {\n",
       "        vertical-align: top;\n",
       "    }\n",
       "\n",
       "    .dataframe thead th {\n",
       "        text-align: right;\n",
       "    }\n",
       "</style>\n",
       "<table border=\"1\" class=\"dataframe\">\n",
       "  <thead>\n",
       "    <tr style=\"text-align: right;\">\n",
       "      <th></th>\n",
       "      <th>genus_21</th>\n",
       "      <th>genus_22</th>\n",
       "      <th>genus_23</th>\n",
       "      <th>genus_24</th>\n",
       "      <th>genus_32</th>\n",
       "      <th>genus_37</th>\n",
       "      <th>genus_38</th>\n",
       "      <th>genus_39</th>\n",
       "      <th>genus_50</th>\n",
       "      <th>genus_58</th>\n",
       "      <th>...</th>\n",
       "      <th>genus_3674</th>\n",
       "      <th>genus_3676</th>\n",
       "      <th>genus_3682</th>\n",
       "      <th>genus_3683</th>\n",
       "      <th>genus_3686</th>\n",
       "      <th>genus_3688</th>\n",
       "      <th>genus_3701</th>\n",
       "      <th>genus_3702</th>\n",
       "      <th>genus_3703</th>\n",
       "      <th>genus_3704</th>\n",
       "    </tr>\n",
       "  </thead>\n",
       "  <tbody>\n",
       "    <tr>\n",
       "      <th>genus_21</th>\n",
       "      <td>1.000000</td>\n",
       "      <td>0.438003</td>\n",
       "      <td>0.980713</td>\n",
       "      <td>0.980713</td>\n",
       "      <td>0.942901</td>\n",
       "      <td>0.913017</td>\n",
       "      <td>0.963103</td>\n",
       "      <td>0.757728</td>\n",
       "      <td>0.300400</td>\n",
       "      <td>0.894721</td>\n",
       "      <td>...</td>\n",
       "      <td>0.868725</td>\n",
       "      <td>0.951896</td>\n",
       "      <td>0.418106</td>\n",
       "      <td>0.653897</td>\n",
       "      <td>0.833657</td>\n",
       "      <td>0.959748</td>\n",
       "      <td>0.980713</td>\n",
       "      <td>0.833124</td>\n",
       "      <td>0.564094</td>\n",
       "      <td>0.827406</td>\n",
       "    </tr>\n",
       "    <tr>\n",
       "      <th>genus_22</th>\n",
       "      <td>0.438003</td>\n",
       "      <td>1.000000</td>\n",
       "      <td>0.407662</td>\n",
       "      <td>0.407662</td>\n",
       "      <td>0.340271</td>\n",
       "      <td>0.472308</td>\n",
       "      <td>0.420545</td>\n",
       "      <td>0.343930</td>\n",
       "      <td>0.120488</td>\n",
       "      <td>0.347132</td>\n",
       "      <td>...</td>\n",
       "      <td>0.363522</td>\n",
       "      <td>0.383114</td>\n",
       "      <td>0.225767</td>\n",
       "      <td>0.232323</td>\n",
       "      <td>0.360320</td>\n",
       "      <td>0.369392</td>\n",
       "      <td>0.407662</td>\n",
       "      <td>0.311835</td>\n",
       "      <td>0.112864</td>\n",
       "      <td>0.237812</td>\n",
       "    </tr>\n",
       "    <tr>\n",
       "      <th>genus_23</th>\n",
       "      <td>0.980713</td>\n",
       "      <td>0.407662</td>\n",
       "      <td>1.000000</td>\n",
       "      <td>1.000000</td>\n",
       "      <td>0.962188</td>\n",
       "      <td>0.893882</td>\n",
       "      <td>0.982390</td>\n",
       "      <td>0.777244</td>\n",
       "      <td>0.286221</td>\n",
       "      <td>0.914008</td>\n",
       "      <td>...</td>\n",
       "      <td>0.888165</td>\n",
       "      <td>0.971184</td>\n",
       "      <td>0.392034</td>\n",
       "      <td>0.674938</td>\n",
       "      <td>0.853859</td>\n",
       "      <td>0.979036</td>\n",
       "      <td>1.000000</td>\n",
       "      <td>0.852563</td>\n",
       "      <td>0.586964</td>\n",
       "      <td>0.846693</td>\n",
       "    </tr>\n",
       "    <tr>\n",
       "      <th>genus_24</th>\n",
       "      <td>0.980713</td>\n",
       "      <td>0.407662</td>\n",
       "      <td>1.000000</td>\n",
       "      <td>1.000000</td>\n",
       "      <td>0.962188</td>\n",
       "      <td>0.893882</td>\n",
       "      <td>0.982390</td>\n",
       "      <td>0.777244</td>\n",
       "      <td>0.286221</td>\n",
       "      <td>0.914008</td>\n",
       "      <td>...</td>\n",
       "      <td>0.888165</td>\n",
       "      <td>0.971184</td>\n",
       "      <td>0.392034</td>\n",
       "      <td>0.674938</td>\n",
       "      <td>0.853859</td>\n",
       "      <td>0.979036</td>\n",
       "      <td>1.000000</td>\n",
       "      <td>0.852563</td>\n",
       "      <td>0.586964</td>\n",
       "      <td>0.846693</td>\n",
       "    </tr>\n",
       "    <tr>\n",
       "      <th>genus_32</th>\n",
       "      <td>0.942901</td>\n",
       "      <td>0.340271</td>\n",
       "      <td>0.962188</td>\n",
       "      <td>0.962188</td>\n",
       "      <td>1.000000</td>\n",
       "      <td>0.855918</td>\n",
       "      <td>0.944578</td>\n",
       "      <td>0.739203</td>\n",
       "      <td>0.288584</td>\n",
       "      <td>0.876196</td>\n",
       "      <td>...</td>\n",
       "      <td>0.850124</td>\n",
       "      <td>0.933371</td>\n",
       "      <td>0.324948</td>\n",
       "      <td>0.699180</td>\n",
       "      <td>0.815132</td>\n",
       "      <td>0.941224</td>\n",
       "      <td>0.962188</td>\n",
       "      <td>0.814599</td>\n",
       "      <td>0.610825</td>\n",
       "      <td>0.808729</td>\n",
       "    </tr>\n",
       "    <tr>\n",
       "      <th>...</th>\n",
       "      <td>...</td>\n",
       "      <td>...</td>\n",
       "      <td>...</td>\n",
       "      <td>...</td>\n",
       "      <td>...</td>\n",
       "      <td>...</td>\n",
       "      <td>...</td>\n",
       "      <td>...</td>\n",
       "      <td>...</td>\n",
       "      <td>...</td>\n",
       "      <td>...</td>\n",
       "      <td>...</td>\n",
       "      <td>...</td>\n",
       "      <td>...</td>\n",
       "      <td>...</td>\n",
       "      <td>...</td>\n",
       "      <td>...</td>\n",
       "      <td>...</td>\n",
       "      <td>...</td>\n",
       "      <td>...</td>\n",
       "      <td>...</td>\n",
       "    </tr>\n",
       "    <tr>\n",
       "      <th>genus_3688</th>\n",
       "      <td>0.959748</td>\n",
       "      <td>0.369392</td>\n",
       "      <td>0.979036</td>\n",
       "      <td>0.979036</td>\n",
       "      <td>0.941224</td>\n",
       "      <td>0.872689</td>\n",
       "      <td>0.960968</td>\n",
       "      <td>0.755975</td>\n",
       "      <td>0.316104</td>\n",
       "      <td>0.893044</td>\n",
       "      <td>...</td>\n",
       "      <td>0.895864</td>\n",
       "      <td>0.950219</td>\n",
       "      <td>0.418182</td>\n",
       "      <td>0.674862</td>\n",
       "      <td>0.844483</td>\n",
       "      <td>1.000000</td>\n",
       "      <td>0.979036</td>\n",
       "      <td>0.831370</td>\n",
       "      <td>0.590776</td>\n",
       "      <td>0.825729</td>\n",
       "    </tr>\n",
       "    <tr>\n",
       "      <th>genus_3701</th>\n",
       "      <td>0.980713</td>\n",
       "      <td>0.407662</td>\n",
       "      <td>1.000000</td>\n",
       "      <td>1.000000</td>\n",
       "      <td>0.962188</td>\n",
       "      <td>0.893882</td>\n",
       "      <td>0.982390</td>\n",
       "      <td>0.777244</td>\n",
       "      <td>0.286221</td>\n",
       "      <td>0.914008</td>\n",
       "      <td>...</td>\n",
       "      <td>0.888165</td>\n",
       "      <td>0.971184</td>\n",
       "      <td>0.392034</td>\n",
       "      <td>0.674938</td>\n",
       "      <td>0.853859</td>\n",
       "      <td>0.979036</td>\n",
       "      <td>1.000000</td>\n",
       "      <td>0.852563</td>\n",
       "      <td>0.586964</td>\n",
       "      <td>0.846693</td>\n",
       "    </tr>\n",
       "    <tr>\n",
       "      <th>genus_3702</th>\n",
       "      <td>0.833124</td>\n",
       "      <td>0.311835</td>\n",
       "      <td>0.852563</td>\n",
       "      <td>0.852563</td>\n",
       "      <td>0.814599</td>\n",
       "      <td>0.769240</td>\n",
       "      <td>0.834572</td>\n",
       "      <td>0.629121</td>\n",
       "      <td>0.339585</td>\n",
       "      <td>0.934896</td>\n",
       "      <td>...</td>\n",
       "      <td>0.739966</td>\n",
       "      <td>0.823594</td>\n",
       "      <td>0.222032</td>\n",
       "      <td>0.551439</td>\n",
       "      <td>0.704059</td>\n",
       "      <td>0.831370</td>\n",
       "      <td>0.852563</td>\n",
       "      <td>1.000000</td>\n",
       "      <td>0.704441</td>\n",
       "      <td>0.698647</td>\n",
       "    </tr>\n",
       "    <tr>\n",
       "      <th>genus_3703</th>\n",
       "      <td>0.564094</td>\n",
       "      <td>0.112864</td>\n",
       "      <td>0.586964</td>\n",
       "      <td>0.586964</td>\n",
       "      <td>0.610825</td>\n",
       "      <td>0.509434</td>\n",
       "      <td>0.587116</td>\n",
       "      <td>0.355822</td>\n",
       "      <td>0.397217</td>\n",
       "      <td>0.635220</td>\n",
       "      <td>...</td>\n",
       "      <td>0.585592</td>\n",
       "      <td>0.553650</td>\n",
       "      <td>0.175300</td>\n",
       "      <td>0.449133</td>\n",
       "      <td>0.466819</td>\n",
       "      <td>0.590776</td>\n",
       "      <td>0.586964</td>\n",
       "      <td>0.704441</td>\n",
       "      <td>1.000000</td>\n",
       "      <td>0.676310</td>\n",
       "    </tr>\n",
       "    <tr>\n",
       "      <th>genus_3704</th>\n",
       "      <td>0.827406</td>\n",
       "      <td>0.237812</td>\n",
       "      <td>0.846693</td>\n",
       "      <td>0.846693</td>\n",
       "      <td>0.808729</td>\n",
       "      <td>0.740118</td>\n",
       "      <td>0.829083</td>\n",
       "      <td>0.623099</td>\n",
       "      <td>0.360244</td>\n",
       "      <td>0.760549</td>\n",
       "      <td>...</td>\n",
       "      <td>0.734248</td>\n",
       "      <td>0.817724</td>\n",
       "      <td>0.330818</td>\n",
       "      <td>0.517743</td>\n",
       "      <td>0.698418</td>\n",
       "      <td>0.825729</td>\n",
       "      <td>0.846693</td>\n",
       "      <td>0.698647</td>\n",
       "      <td>0.676310</td>\n",
       "      <td>1.000000</td>\n",
       "    </tr>\n",
       "  </tbody>\n",
       "</table>\n",
       "<p>749 rows × 749 columns</p>\n",
       "</div>"
      ],
      "text/plain": [
       "            genus_21  genus_22  genus_23  genus_24  genus_32  genus_37  \\\n",
       "genus_21    1.000000  0.438003  0.980713  0.980713  0.942901  0.913017   \n",
       "genus_22    0.438003  1.000000  0.407662  0.407662  0.340271  0.472308   \n",
       "genus_23    0.980713  0.407662  1.000000  1.000000  0.962188  0.893882   \n",
       "genus_24    0.980713  0.407662  1.000000  1.000000  0.962188  0.893882   \n",
       "genus_32    0.942901  0.340271  0.962188  0.962188  1.000000  0.855918   \n",
       "...              ...       ...       ...       ...       ...       ...   \n",
       "genus_3688  0.959748  0.369392  0.979036  0.979036  0.941224  0.872689   \n",
       "genus_3701  0.980713  0.407662  1.000000  1.000000  0.962188  0.893882   \n",
       "genus_3702  0.833124  0.311835  0.852563  0.852563  0.814599  0.769240   \n",
       "genus_3703  0.564094  0.112864  0.586964  0.586964  0.610825  0.509434   \n",
       "genus_3704  0.827406  0.237812  0.846693  0.846693  0.808729  0.740118   \n",
       "\n",
       "            genus_38  genus_39  genus_50  genus_58  ...  genus_3674  \\\n",
       "genus_21    0.963103  0.757728  0.300400  0.894721  ...    0.868725   \n",
       "genus_22    0.420545  0.343930  0.120488  0.347132  ...    0.363522   \n",
       "genus_23    0.982390  0.777244  0.286221  0.914008  ...    0.888165   \n",
       "genus_24    0.982390  0.777244  0.286221  0.914008  ...    0.888165   \n",
       "genus_32    0.944578  0.739203  0.288584  0.876196  ...    0.850124   \n",
       "...              ...       ...       ...       ...  ...         ...   \n",
       "genus_3688  0.960968  0.755975  0.316104  0.893044  ...    0.895864   \n",
       "genus_3701  0.982390  0.777244  0.286221  0.914008  ...    0.888165   \n",
       "genus_3702  0.834572  0.629121  0.339585  0.934896  ...    0.739966   \n",
       "genus_3703  0.587116  0.355822  0.397217  0.635220  ...    0.585592   \n",
       "genus_3704  0.829083  0.623099  0.360244  0.760549  ...    0.734248   \n",
       "\n",
       "            genus_3676  genus_3682  genus_3683  genus_3686  genus_3688  \\\n",
       "genus_21      0.951896    0.418106    0.653897    0.833657    0.959748   \n",
       "genus_22      0.383114    0.225767    0.232323    0.360320    0.369392   \n",
       "genus_23      0.971184    0.392034    0.674938    0.853859    0.979036   \n",
       "genus_24      0.971184    0.392034    0.674938    0.853859    0.979036   \n",
       "genus_32      0.933371    0.324948    0.699180    0.815132    0.941224   \n",
       "...                ...         ...         ...         ...         ...   \n",
       "genus_3688    0.950219    0.418182    0.674862    0.844483    1.000000   \n",
       "genus_3701    0.971184    0.392034    0.674938    0.853859    0.979036   \n",
       "genus_3702    0.823594    0.222032    0.551439    0.704059    0.831370   \n",
       "genus_3703    0.553650    0.175300    0.449133    0.466819    0.590776   \n",
       "genus_3704    0.817724    0.330818    0.517743    0.698418    0.825729   \n",
       "\n",
       "            genus_3701  genus_3702  genus_3703  genus_3704  \n",
       "genus_21      0.980713    0.833124    0.564094    0.827406  \n",
       "genus_22      0.407662    0.311835    0.112864    0.237812  \n",
       "genus_23      1.000000    0.852563    0.586964    0.846693  \n",
       "genus_24      1.000000    0.852563    0.586964    0.846693  \n",
       "genus_32      0.962188    0.814599    0.610825    0.808729  \n",
       "...                ...         ...         ...         ...  \n",
       "genus_3688    0.979036    0.831370    0.590776    0.825729  \n",
       "genus_3701    1.000000    0.852563    0.586964    0.846693  \n",
       "genus_3702    0.852563    1.000000    0.704441    0.698647  \n",
       "genus_3703    0.586964    0.704441    1.000000    0.676310  \n",
       "genus_3704    0.846693    0.698647    0.676310    1.000000  \n",
       "\n",
       "[749 rows x 749 columns]"
      ]
     },
     "execution_count": 250,
     "metadata": {},
     "output_type": "execute_result"
    }
   ],
   "source": [
    "adata.to_df(layer='clr_abaco').corr(method='spearman')"
   ]
  },
  {
   "cell_type": "code",
   "execution_count": 256,
   "id": "71aacd70",
   "metadata": {},
   "outputs": [
    {
     "ename": "NameError",
     "evalue": "name 'bio_col' is not defined",
     "output_type": "error",
     "traceback": [
      "\u001b[31m---------------------------------------------------------------------------\u001b[39m",
      "\u001b[31mNameError\u001b[39m                                 Traceback (most recent call last)",
      "\u001b[36mCell\u001b[39m\u001b[36m \u001b[39m\u001b[32mIn[256]\u001b[39m\u001b[32m, line 1\u001b[39m\n\u001b[32m----> \u001b[39m\u001b[32m1\u001b[39m adata.obs[\u001b[43mbio_col\u001b[49m]\n",
      "\u001b[31mNameError\u001b[39m: name 'bio_col' is not defined"
     ]
    }
   ],
   "source": [
    "adata.obs[bio_col]"
   ]
  },
  {
   "cell_type": "code",
   "execution_count": null,
   "id": "57c68b2b",
   "metadata": {},
   "outputs": [],
   "source": []
  },
  {
   "cell_type": "code",
   "execution_count": null,
   "id": "246ce85b",
   "metadata": {},
   "outputs": [],
   "source": []
  },
  {
   "cell_type": "code",
   "execution_count": null,
   "id": "c7a1ef34",
   "metadata": {},
   "outputs": [
    {
     "name": "stderr",
     "output_type": "stream",
     "text": [
      "/var/folders/3d/vpv9_sk51c584kypm0w04hmh0000gp/T/ipykernel_90864/3482603197.py:18: ImplicitModificationWarning: Trying to modify attribute `.obs` of view, initializing view as actual.\n",
      "  adata_keep.obs[agg_name] = adata[:, others].X.sum(axis=1)\n",
      "/var/folders/3d/vpv9_sk51c584kypm0w04hmh0000gp/T/ipykernel_90864/3482603197.py:18: ImplicitModificationWarning: Trying to modify attribute `.obs` of view, initializing view as actual.\n",
      "  adata_keep.obs[agg_name] = adata[:, others].X.sum(axis=1)\n"
     ]
    }
   ],
   "source": [
    "def agg_other_taxa(\n",
    "        adata: ad.AnnData, \n",
    "        layer: None | str = None,\n",
    "        keep_top=5, \n",
    "        agg_name='Other taxa',\n",
    "        taxa_map: None | str | dict = None,\n",
    "        sample_map: None | str | dict = None\n",
    "    ):\n",
    "    \"\"\"sample x taxa df\"\"\"\n",
    "\n",
    "    # indices of top taxa to not agg\n",
    "    keep = adata.to_df(layer=layer).sum(axis=0).nlargest(keep_top, keep='all').index\n",
    "    # other taxa to aggregate\n",
    "    others = adata.to_df(layer=layer).sum(axis=0).nsmallest(len(adata.var)-keep_top, keep='all').index\n",
    "    # new adata with only top taxa\n",
    "    adata_keep = adata[:, keep]\n",
    "    # add sum of other taxa as new obs \n",
    "    adata_keep.obs[agg_name] = adata[:, others].X.sum(axis=1)\n",
    "\n",
    "    df_agg = pd.concat([adata_keep.to_df(layer=layer), adata_keep.obs[[agg_name]]], axis=1)\n",
    "\n",
    "    if isinstance(taxa_map, dict):\n",
    "        df_agg = df_agg.rename(columns=taxa_map)\n",
    "    elif isinstance(taxa_map, str):\n",
    "        df_agg = df_agg.rename(columns=adata_keep.var[taxa_map].to_dict())\n",
    "    elif taxa_map is None: \n",
    "        pass\n",
    "    else: \n",
    "        raise TypeError(f\"taxa_map must be dict, str or None, not {type(taxa_map)}\")\n",
    "    \n",
    "    if isinstance(sample_map, dict):\n",
    "        df_agg.index = df_agg.index.map(sample_map)\n",
    "    elif isinstance(sample_map, str):\n",
    "        df_agg.index = df_agg.index.map(adata_keep.obs[sample_map].to_dict())\n",
    "    elif sample_map is None:\n",
    "        pass\n",
    "    else:\n",
    "        raise TypeError(f\"sample_map must be dict, str or None, not {type(sample_map)}\")\n",
    "    \n",
    "    return df_agg\n",
    "\n",
    "top_10 = agg_other_taxa(\n",
    "    adata, \n",
    "    layer=None,\n",
    "    keep_top=10, \n",
    "    agg_name='Other taxa',\n",
    "    taxa_map='g',\n",
    "    sample_map=adata.obs['sample_name'].str.split('-', n=3, expand=True)[3].to_dict()\n",
    ")\n",
    "\n",
    "top_10_abaco = agg_other_taxa(\n",
    "    adata, \n",
    "    layer='abaco',\n",
    "    keep_top=10, \n",
    "    agg_name='Other taxa',\n",
    "    taxa_map='g',\n",
    "    sample_map=adata.obs['sample_name'].str.split('-', n=3, expand=True)[3].to_dict()\n",
    ")\n"
   ]
  },
  {
   "cell_type": "code",
   "execution_count": 208,
   "id": "efea2ca9",
   "metadata": {},
   "outputs": [
    {
     "data": {
      "text/plain": [
       "<matplotlib.legend.Legend at 0x2a626cc10>"
      ]
     },
     "execution_count": 208,
     "metadata": {},
     "output_type": "execute_result"
    },
    {
     "data": {
      "image/png": "[encoded data removed]",
      "text/plain": [
       "<Figure size 1500x1500 with 1 Axes>"
      ]
     },
     "metadata": {},
     "output_type": "display_data"
    }
   ],
   "source": [
    "ax = top_10.plot(\n",
    "    kind='bar', \n",
    "    stacked=True, \n",
    "    figsize=(15, 15), \n",
    "    title=\"Top 13 Genus and Other Taxa (Proportions)\",\n",
    "    colormap='nipy_spectral',\n",
    ")\n",
    "ax.set_ylabel(\"Proportion\")\n",
    "ax.legend(bbox_to_anchor=(1.05, 1), loc='upper left', title='Genus')"
   ]
  },
  {
   "cell_type": "code",
   "execution_count": null,
   "id": "5b28214e",
   "metadata": {},
   "outputs": [],
   "source": [
    "\n",
    "adata_keeper.var['Other taxa'] = pd.Series(adata[:, others].X.sum(axis=1), index=adata.obs.index, name='Other taxa')\n",
    "adata_keeper.to_df()"
   ]
  },
  {
   "cell_type": "code",
   "execution_count": 146,
   "id": "bed88e07",
   "metadata": {},
   "outputs": [
    {
     "data": {
      "text/plain": [
       "sample_3     1798.0\n",
       "sample_4     1575.0\n",
       "sample_5     1511.0\n",
       "sample_6     2132.0\n",
       "sample_7      826.0\n",
       "sample_8     1235.0\n",
       "sample_9     1639.0\n",
       "sample_10    1646.0\n",
       "sample_11    1712.0\n",
       "sample_12    1322.0\n",
       "sample_13    1422.0\n",
       "sample_14     752.0\n",
       "sample_15    1958.0\n",
       "sample_16    1334.0\n",
       "sample_17    1178.0\n",
       "sample_18    1413.0\n",
       "sample_19    1537.0\n",
       "sample_20    1569.0\n",
       "sample_21    1336.0\n",
       "sample_22    1186.0\n",
       "sample_23    1774.0\n",
       "sample_24    1873.0\n",
       "sample_25    1190.0\n",
       "sample_26    1922.0\n",
       "sample_27     852.0\n",
       "sample_28     997.0\n",
       "sample_29     919.0\n",
       "sample_30    1167.0\n",
       "sample_31    1065.0\n",
       "sample_32    1926.0\n",
       "sample_33     390.0\n",
       "sample_34    1631.0\n",
       "sample_35     259.0\n",
       "sample_36    1085.0\n",
       "sample_37    1582.0\n",
       "sample_38    1332.0\n",
       "sample_39    1586.0\n",
       "sample_40    1428.0\n",
       "sample_41    1614.0\n",
       "sample_42    1656.0\n",
       "sample_43    1485.0\n",
       "sample_44    1034.0\n",
       "sample_45    1400.0\n",
       "sample_46     972.0\n",
       "sample_47     479.0\n",
       "sample_48    1059.0\n",
       "sample_49     708.0\n",
       "sample_50     757.0\n",
       "sample_51    1281.0\n",
       "sample_52    1399.0\n",
       "sample_53    1016.0\n",
       "sample_54    1389.0\n",
       "sample_55    1234.0\n",
       "sample_56    1101.0\n",
       "Name: Other taxa, dtype: float64"
      ]
     },
     "execution_count": 146,
     "metadata": {},
     "output_type": "execute_result"
    }
   ],
   "source": [
    "pd.Series(adata[:, others].X.sum(axis=1), index=adata.obs.index, name='Other taxa')"
   ]
  }
 ],
 "metadata": {
  "kernelspec": {
   "display_name": ".venv",
   "language": "python",
   "name": "python3"
  },
  "language_info": {
   "codemirror_mode": {
    "name": "ipython",
    "version": 3
   },
   "file_extension": ".py",
   "mimetype": "text/x-python",
   "name": "python",
   "nbconvert_exporter": "python",
   "pygments_lexer": "ipython3",
   "version": "3.11.0"
  }
 },
 "nbformat": 4,
 "nbformat_minor": 5
}
